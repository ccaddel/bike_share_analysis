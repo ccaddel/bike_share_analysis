{
 "cells": [
  {
   "cell_type": "markdown",
   "metadata": {},
   "source": [
    "# 2016 US Bike Share Activity Snapshot\n",
    "\n",
    "## Table of Contents\n",
    "- [Introduction](#intro)\n",
    "- [Posing Questions](#pose_questions)\n",
    "- [Data Collection and Wrangling](#wrangling)\n",
    "  - [Condensing the Trip Data](#condensing)\n",
    "- [Exploratory Data Analysis](#eda)\n",
    "  - [Statistics](#statistics)\n",
    "  - [Visualizations](#visualizations)\n",
    "- [Performing Your Own Analysis](#eda_continued)\n",
    "- [Conclusions](#conclusions)\n",
    "\n",
    "<a id='intro'></a>\n",
    "## Introduction\n",
    "\n",
    "Over the past decade, bicycle-sharing systems have been growing in number and popularity in cities across the world. Bicycle-sharing systems allow users to rent bicycles for short trips, typically 30 minutes or less. Thanks to the rise in information technologies, it is easy for a user of the system to access a dock within the system to unlock or return bicycles. These technologies also provide a wealth of data that can be used to explore how these bike-sharing systems are used.\n",
    "\n",
    "In this project, we will perform an exploratory analysis on data provided by [Motivate](https://www.motivateco.com/), a bike-share system provider for many major cities in the United States. We'll compare the system usage between three large cities: New York City, Chicago, and Washington, DC. We'll also see if there are any differences within each system for those users that are registered, regular users and those users that are short-term, casual users."
   ]
  },
  {
   "cell_type": "markdown",
   "metadata": {},
   "source": [
    "<a id='pose_questions'></a>\n",
    "## Posing Questions\n",
    "\n",
    "**Question 1**: What is the distribution of trip durations? What is the distribution of trip quantities by month? What is the quantity of trip durations by day of the week? What are the most popular bike routes? "
   ]
  },
  {
   "cell_type": "markdown",
   "metadata": {},
   "source": [
    "<a id='wrangling'></a>\n",
    "## Data Collection and Wrangling\n",
    "\n",
    "Now it's time to collect and explore our data. In this project, we will focus on the record of individual trips taken in 2016 from our selected cities: New York City, Chicago, and Washington, DC. Each of these cities has a page where we can freely download the trip data.:\n",
    "\n",
    "- New York City (Citi Bike): [Link](https://www.citibikenyc.com/system-data)\n",
    "- Chicago (Divvy): [Link](https://www.divvybikes.com/system-data)\n",
    "- Washington, DC (Capital Bikeshare): [Link](https://www.capitalbikeshare.com/system-data)\n",
    "\n",
    "If you visit these pages, you will notice that each city has a different way of delivering its data. Chicago updates with new data twice a year, Washington DC is quarterly, and New York City is monthly. Some data wrangling of inconsistencies in timestamp format within each city has already been performed. In addition, a random 2% sample of the original data is taken to make the exploration more manageable. \n",
    "\n",
    "**Question 2**: However, there is still a lot of data for us to investigate, so it's a good idea to start off by looking at one entry from each of the cities we're going to analyze."
   ]
  },
  {
   "cell_type": "code",
   "execution_count": 2,
   "metadata": {},
   "outputs": [],
   "source": [
    "## import all necessary packages and functions.\n",
    "import csv # read and write csv files\n",
    "from datetime import datetime # operations to parse dates\n",
    "from pprint import pprint # use to print data structures like dictionaries in\n",
    "                          # a nicer way than the base print function."
   ]
  },
  {
   "cell_type": "code",
   "execution_count": 3,
   "metadata": {
    "scrolled": true
   },
   "outputs": [
    {
     "name": "stdout",
     "output_type": "stream",
     "text": [
      "\n",
      "City: NYC\n",
      "OrderedDict([('tripduration', '839'),\n",
      "             ('starttime', '1/1/2016 00:09:55'),\n",
      "             ('stoptime', '1/1/2016 00:23:54'),\n",
      "             ('start station id', '532'),\n",
      "             ('start station name', 'S 5 Pl & S 4 St'),\n",
      "             ('start station latitude', '40.710451'),\n",
      "             ('start station longitude', '-73.960876'),\n",
      "             ('end station id', '401'),\n",
      "             ('end station name', 'Allen St & Rivington St'),\n",
      "             ('end station latitude', '40.72019576'),\n",
      "             ('end station longitude', '-73.98997825'),\n",
      "             ('bikeid', '17109'),\n",
      "             ('usertype', 'Customer'),\n",
      "             ('birth year', ''),\n",
      "             ('gender', '0')])\n",
      "\n",
      "City: Chicago\n",
      "OrderedDict([('trip_id', '9080545'),\n",
      "             ('starttime', '3/31/2016 23:30'),\n",
      "             ('stoptime', '3/31/2016 23:46'),\n",
      "             ('bikeid', '2295'),\n",
      "             ('tripduration', '926'),\n",
      "             ('from_station_id', '156'),\n",
      "             ('from_station_name', 'Clark St & Wellington Ave'),\n",
      "             ('to_station_id', '166'),\n",
      "             ('to_station_name', 'Ashland Ave & Wrightwood Ave'),\n",
      "             ('usertype', 'Subscriber'),\n",
      "             ('gender', 'Male'),\n",
      "             ('birthyear', '1990')])\n",
      "\n",
      "City: Washington\n",
      "OrderedDict([('Duration (ms)', '427387'),\n",
      "             ('Start date', '3/31/2016 22:57'),\n",
      "             ('End date', '3/31/2016 23:04'),\n",
      "             ('Start station number', '31602'),\n",
      "             ('Start station', 'Park Rd & Holmead Pl NW'),\n",
      "             ('End station number', '31207'),\n",
      "             ('End station', 'Georgia Ave and Fairmont St NW'),\n",
      "             ('Bike number', 'W20842'),\n",
      "             ('Member Type', 'Registered')])\n"
     ]
    }
   ],
   "source": [
    "def print_first_point(filename):\n",
    "    \"\"\"\n",
    "    This function prints and returns the first data point (second row) from\n",
    "    a csv file that includes a header row.\n",
    "    \"\"\"\n",
    "    # print city name for reference\n",
    "    city = filename.split('-')[0].split('/')[-1]\n",
    "    print('\\nCity: {}'.format(city))\n",
    "    \n",
    "    with open(filename, 'r') as f_in:\n",
    "        ## set up a DictReader object. ##\n",
    "        trip_reader = csv.DictReader(f_in)\n",
    "        \n",
    "        ## use function on the DictReader object to read the     ##\n",
    "        ## first trip from the data file and store it in a variable.     ##\n",
    "        first_trip = next(trip_reader)\n",
    "    \n",
    "        ## use pprint library to print the first trip. ##\n",
    "        pprint(first_trip)\n",
    "        \n",
    "    # output city name and first trip for later testing\n",
    "    return (city, first_trip)\n",
    "\n",
    "# list of files for each city\n",
    "data_files = ['./data/NYC-CitiBike-2016.csv',\n",
    "              './data/Chicago-Divvy-2016.csv',\n",
    "              './data/Washington-CapitalBikeshare-2016.csv',]\n",
    "\n",
    "# print the first trip from each file, store in dictionary\n",
    "example_trips = {}\n",
    "for data_file in data_files:\n",
    "    city, first_trip = print_first_point(data_file)\n",
    "    example_trips[city] = first_trip"
   ]
  },
  {
   "cell_type": "markdown",
   "metadata": {},
   "source": [
    "<a id='condensing'></a>\n",
    "### Condensing the Trip Data\n",
    "\n",
    "It should be observable from the above printout that each city provides different information. Even where the information is the same, the column names and formats are sometimes different. To make things as simple as possible when we get to the actual exploration, we should trim and clean the data. Cleaning the data makes sure that the data formats across the cities are consistent, while trimming focuses only on the parts of the data we are most interested in to make the exploration easier to work with.\n",
    "\n",
    "We will generate new data files with five values of interest for each trip: trip duration, starting month, starting hour, day of the week, and user type. Each of these may require additional wrangling depending on the city:\n",
    "\n",
    "- **Duration**: This has been given to us in seconds (New York, Chicago) or milliseconds (Washington). A more natural unit of analysis will be if all the trip durations are given in terms of minutes.\n",
    "- **Month**, **Hour**, **Day of Week**: Ridership volume is likely to change based on the season, time of day, and whether it is a weekday or weekend. Use the start time of the trip to obtain these values. The New York City data includes the seconds in their timestamps, while Washington and Chicago do not. The [`datetime`](https://docs.python.org/3/library/datetime.html) package will be very useful here to make the needed conversions.\n",
    "- **User Type**: It is possible that users who are subscribed to a bike-share system will have different patterns of use compared to users who only have temporary passes. Washington divides its users into two types: 'Registered' for users with annual, monthly, and other longer-term subscriptions, and 'Casual', for users with 24-hour, 3-day, and other short-term passes. The New York and Chicago data uses 'Subscriber' and 'Customer' for these groups, respectively. For consistency, we will convert the Washington labels to match the other two.\n",
    "\n",
    "\n",
    "**Question 3a**: We will complete the helper functions in the code cells below to address each of the cleaning tasks described above."
   ]
  },
  {
   "cell_type": "code",
   "execution_count": 4,
   "metadata": {},
   "outputs": [],
   "source": [
    "def duration_in_mins(datum, city):\n",
    "    \"\"\"\n",
    "    Takes as input a dictionary containing info about a single trip (datum) and\n",
    "    its origin city (city) and returns the trip duration in units of minutes.\n",
    "    \"\"\"\n",
    "\n",
    "    if city == 'Washington':\n",
    "        duration = float(datum['Duration (ms)'])/60000\n",
    "    else:\n",
    "        duration = float(datum['tripduration'])/60\n",
    "    \n",
    "    return duration\n",
    "\n",
    "\n",
    "# Some tests to check that the code works. There should be no output if all of\n",
    "# the assertions pass. The `example_trips` dictionary was obtained from when\n",
    "# we printed the first trip from each of the original data files.\n",
    "tests = {'NYC': 13.9833,\n",
    "         'Chicago': 15.4333,\n",
    "         'Washington': 7.1231}\n",
    "\n",
    "for city in tests:\n",
    "    assert abs(duration_in_mins(example_trips[city], city) - tests[city]) < .001"
   ]
  },
  {
   "cell_type": "code",
   "execution_count": 5,
   "metadata": {
    "scrolled": true
   },
   "outputs": [],
   "source": [
    "def time_of_trip(datum, city):\n",
    "    \"\"\"\n",
    "    Takes as input a dictionary containing info about a single trip (datum) and\n",
    "    its origin city (city) and returns the month, hour, and day of the week in\n",
    "    which the trip was made.\n",
    "    \"\"\"\n",
    "    weekdays = {6: 'Sunday',0: 'Monday',1: 'Tuesday',2: 'Wednesday',3: 'Thursday',4: 'Friday',5: 'Saturday'}\n",
    "    if city == 'NYC':\n",
    "        trip = datetime.strptime(datum['starttime'], '%m/%d/%Y %H:%M:%S')\n",
    "        date_extract = datetime.date(trip)\n",
    "        time_extract = datetime.time(trip)\n",
    "        month = int(date_extract.month)\n",
    "        hour = int(time_extract.hour)\n",
    "        day_of_week = weekdays[datetime.weekday(datetime.date(trip))]\n",
    "    elif city == 'Chicago':\n",
    "        trip = datetime.strptime(datum['starttime'], '%m/%d/%Y %H:%M')\n",
    "        date_extract = datetime.date(trip)\n",
    "        time_extract = datetime.time(trip)\n",
    "        month = int(date_extract.month)\n",
    "        hour = int(time_extract.hour)\n",
    "        day_of_week = weekdays[datetime.weekday(datetime.date(trip))]\n",
    "    elif city == 'Washington':\n",
    "        trip = datetime.strptime(datum['Start date'], '%m/%d/%Y %H:%M')\n",
    "        date_extract = datetime.date(trip)\n",
    "        time_extract = datetime.time(trip)\n",
    "        month = int(date_extract.month)\n",
    "        hour = int(time_extract.hour)\n",
    "        day_of_week = weekdays[datetime.weekday(datetime.date(trip))]\n",
    "        \n",
    "    return (month, hour, day_of_week)\n",
    "\n",
    "\n",
    "# Some tests to check that the code works. There should be no output if all of\n",
    "# the assertions pass. The `example_trips` dictionary was obtained from when\n",
    "# we printed the first trip from each of the original data files.\n",
    "tests = {'NYC': (1, 0, 'Friday'),\n",
    "         'Chicago': (3, 23, 'Thursday'),\n",
    "         'Washington': (3, 22, 'Thursday')}\n",
    "\n",
    "for city in tests:\n",
    "    assert time_of_trip(example_trips[city], city) == tests[city]"
   ]
  },
  {
   "cell_type": "code",
   "execution_count": 6,
   "metadata": {},
   "outputs": [],
   "source": [
    "def type_of_user(datum, city):\n",
    "    \"\"\"\n",
    "    Takes as input a dictionary containing info about a single trip (datum) and\n",
    "    its origin city (city) and returns the type of system user that made the\n",
    "    trip.\n",
    "    \n",
    "    Remember that Washington has different category names compared to Chicago\n",
    "    and NYC. \n",
    "    \"\"\"\n",
    "    if city == 'Washington':\n",
    "        if datum['Member Type'] == 'Registered':\n",
    "            user_type = 'Subscriber'\n",
    "        else:\n",
    "            user_type = 'Customer'\n",
    "    else:\n",
    "        user_type = datum['usertype']\n",
    "    \n",
    "    return user_type\n",
    "\n",
    "\n",
    "# Some tests to check that the code works. There should be no output if all of\n",
    "# the assertions pass. The `example_trips` dictionary was obtained from when\n",
    "# we printed the first trip from each of the original data files.\n",
    "tests = {'NYC': 'Customer',\n",
    "         'Chicago': 'Subscriber',\n",
    "         'Washington': 'Subscriber'}\n",
    "\n",
    "for city in tests:\n",
    "    assert type_of_user(example_trips[city], city) == tests[city]"
   ]
  },
  {
   "cell_type": "markdown",
   "metadata": {},
   "source": [
    "**Question 3b**: Now, we use the helper functions above to create a condensed data file for each city consisting only of the data fields indicated above. "
   ]
  },
  {
   "cell_type": "code",
   "execution_count": 7,
   "metadata": {},
   "outputs": [],
   "source": [
    "def condense_data(in_file, out_file, city):\n",
    "    \"\"\"\n",
    "    This function takes full data from the specified input file\n",
    "    and writes the condensed data to a specified output file. The city\n",
    "    argument determines how the input file will be parsed.\n",
    "    \"\"\"\n",
    "    \n",
    "    with open(out_file, 'w') as f_out, open(in_file, 'r') as f_in:\n",
    "        # set up csv DictWriter object - writer requires column names for the\n",
    "        # first row as the \"fieldnames\" argument\n",
    "        out_colnames = ['duration', 'month', 'hour', 'day_of_week', 'user_type']        \n",
    "        trip_writer = csv.DictWriter(f_out, fieldnames = out_colnames)\n",
    "        trip_writer.writeheader()\n",
    "        \n",
    "        ## set up csv DictReader object ##\n",
    "        trip_reader = csv.DictReader(f_in)\n",
    "\n",
    "        # collect data from and process each row\n",
    "        for row in trip_reader:\n",
    "            # set up a dictionary to hold the values for the cleaned and trimmed data point\n",
    "            new_point = {}\n",
    "\n",
    "            ## use the helper functions to get the cleaned data from original data dictionaries. ##\n",
    "            new_point['duration'] = round(duration_in_mins(row, city),4)\n",
    "            new_point['month'] = time_of_trip(row, city)[0]\n",
    "            new_point['hour'] = time_of_trip(row, city)[1]\n",
    "            new_point['day_of_week'] = time_of_trip(row, city)[2]\n",
    "            new_point['user_type'] = type_of_user(row, city)\n",
    "            #new_point dictionary - 1 dictionary per row containing 3 key value pairs.\n",
    "            \n",
    "            ## TODO: write the processed information to the output file.     ##\n",
    "            trip_writer.writerow(new_point)      "
   ]
  },
  {
   "cell_type": "code",
   "execution_count": 8,
   "metadata": {},
   "outputs": [
    {
     "name": "stdout",
     "output_type": "stream",
     "text": [
      "\n",
      "City: Washington\n",
      "OrderedDict([('duration', '7.1231'),\n",
      "             ('month', '3'),\n",
      "             ('hour', '22'),\n",
      "             ('day_of_week', 'Thursday'),\n",
      "             ('user_type', 'Subscriber')])\n",
      "\n",
      "City: Chicago\n",
      "OrderedDict([('duration', '15.4333'),\n",
      "             ('month', '3'),\n",
      "             ('hour', '23'),\n",
      "             ('day_of_week', 'Thursday'),\n",
      "             ('user_type', 'Subscriber')])\n",
      "\n",
      "City: NYC\n",
      "OrderedDict([('duration', '13.9833'),\n",
      "             ('month', '1'),\n",
      "             ('hour', '0'),\n",
      "             ('day_of_week', 'Friday'),\n",
      "             ('user_type', 'Customer')])\n"
     ]
    }
   ],
   "source": [
    "# checking our work\n",
    "city_info = {'Washington': {'in_file': './data/Washington-CapitalBikeshare-2016.csv',\n",
    "                            'out_file': './data/Washington-2016-Summary.csv'},\n",
    "             'Chicago': {'in_file': './data/Chicago-Divvy-2016.csv',\n",
    "                         'out_file': './data/Chicago-2016-Summary.csv'},\n",
    "             'NYC': {'in_file': './data/NYC-CitiBike-2016.csv',\n",
    "                     'out_file': './data/NYC-2016-Summary.csv'}}\n",
    "\n",
    "for city, filenames in city_info.items():\n",
    "    condense_data(filenames['in_file'], filenames['out_file'], city)\n",
    "    print_first_point(filenames['out_file'])"
   ]
  },
  {
   "cell_type": "markdown",
   "metadata": {},
   "source": [
    "<a id='eda'></a>\n",
    "## Exploratory Data Analysis\n",
    "\n",
    "Now that we have the data collected and wrangled, we'll start exploring the data. In this section we'll write some code to compute descriptive statistics from the data. We'll also use the `matplotlib` library to create some basic histograms of the data.\n",
    "\n",
    "<a id='statistics'></a>\n",
    "### Statistics\n",
    "\n",
    "First, let's compute some basic counts. Below we'll write a function that uses the csv module to iterate through a provided data file, returning the number of trips made by subscribers and customers. Then we'll run the function on the data.\n",
    "\n",
    "**Question 4a**: Which city has the highest number of trips? Which city has the highest proportion of trips made by subscribers? Which city has the highest proportion of trips made by short-term customers?\n",
    "\n",
    "**Answer**: The city with the highest number of trips is NYC. The city with the highest proportion of trips made by subscribers is NYC. The city with the highest proportion of trips made by customers is Chicago."
   ]
  },
  {
   "cell_type": "code",
   "execution_count": 9,
   "metadata": {},
   "outputs": [],
   "source": [
    "def number_of_trips(filename):\n",
    "    \"\"\"\n",
    "    This function reads in a file with trip data and reports the number of\n",
    "    trips made by subscribers, customers, and total overall.\n",
    "    \"\"\"\n",
    "    with open(filename, 'r') as f_in:\n",
    "        # set up csv reader object\n",
    "        reader = csv.DictReader(f_in)\n",
    "        \n",
    "        # initialize count variables\n",
    "        n_sub_trips = 0\n",
    "        n_cust_trips = 0\n",
    "        \n",
    "        # tally up ride types\n",
    "        for row in reader:\n",
    "            if row['user_type'] == 'Subscriber':\n",
    "                n_sub_trips += 1\n",
    "            else:\n",
    "                n_cust_trips += 1\n",
    "        \n",
    "        # compute total number of rides\n",
    "        n_tot_trips = n_sub_trips + n_cust_trips\n",
    "\n",
    "        # return dictionary with last 3 computations\n",
    "        return(n_sub_trips, n_cust_trips, n_tot_trips)"
   ]
  },
  {
   "cell_type": "code",
   "execution_count": 10,
   "metadata": {
    "scrolled": false
   },
   "outputs": [
    {
     "name": "stdout",
     "output_type": "stream",
     "text": [
      "Washington {'num trips': 66326, 'proportion subscribers': 0.7803, 'proportion customers': 0.2197}\n",
      "Chicago {'num trips': 72131, 'proportion subscribers': 0.7623, 'proportion customers': 0.2377}\n",
      "NYC {'num trips': 276798, 'proportion subscribers': 0.8884, 'proportion customers': 0.1116}\n"
     ]
    }
   ],
   "source": [
    "city_files = {'Washington': './data/Washington-2016-Summary.csv',\n",
    "             'Chicago': './data/Chicago-2016-Summary.csv',\n",
    "             'NYC': './data/NYC-2016-Summary.csv'}\n",
    "\n",
    "for city, filename in city_files.items():\n",
    "    num_trips = number_of_trips(filename)\n",
    "    proportion_subscribers = round((num_trips[0])/(num_trips[2]),4)\n",
    "    proportion_customers = round((num_trips[1])/(num_trips[2]),4)\n",
    "    tripnums_dict = {\"num trips\":num_trips[2], \"proportion subscribers\":proportion_subscribers, \"proportion customers\": proportion_customers}\n",
    "    print(city,tripnums_dict)"
   ]
  },
  {
   "cell_type": "markdown",
   "metadata": {},
   "source": [
    "Now, we will continue investigating properties of the data.\n",
    "\n",
    "**Question 4b**: Bike-share systems are designed for riders to take short trips. Most of the time, users are allowed to take trips of 30 minutes or less with no additional charges, with overage charges made for trips of longer than that duration. What is the average trip length for each city? What proportion of rides made in each city are longer than 30 minutes?\n",
    "\n",
    "**Answer**: Average trip length for each city: Washington - 18.93 min, Chicago - 16.56 min, NYC - 15.81 min. Proportion of rides longer than 30 min for each city: Washington - 10.84%, Chicago - 8.33%, NYC - 7.3%"
   ]
  },
  {
   "cell_type": "code",
   "execution_count": 11,
   "metadata": {
    "scrolled": true
   },
   "outputs": [],
   "source": [
    "## FYI: The csv module reads in all of the data as strings, including  ##\n",
    "## numeric values. We will need a function to convert the strings      ##\n",
    "## into an appropriate numeric type before aggregating data.          ##\n",
    "\n",
    "def ride_durations(filename):\n",
    "    \"\"\"\n",
    "    This function reads in a file with trip data and reports the average trip duration by city\n",
    "    and the proportion of ride with a duration over 30 min.\n",
    "    \"\"\"\n",
    "    with open(filename, 'r') as f_in:\n",
    "        # set up csv reader object\n",
    "        reader = csv.DictReader(f_in)\n",
    "        \n",
    "        # initialize count & sum variables\n",
    "        ride_over30_ct = 0\n",
    "        normal_ride_ct = 0\n",
    "        duration_totals = 0\n",
    "        \n",
    "        # tally up ride duration totals & sum of all ride durations\n",
    "        for row in reader:\n",
    "            duration = float(row['duration'])\n",
    "            duration_totals += duration\n",
    "            if duration > 30:\n",
    "                ride_over30_ct += 1\n",
    "            else:\n",
    "                normal_ride_ct += 1\n",
    "                \n",
    "        #add up total_rides    \n",
    "        total_ride_ct = ride_over30_ct + normal_ride_ct\n",
    "        \n",
    "        #proportion of ride over 30 min\n",
    "        p_over30 = ride_over30_ct/total_ride_ct\n",
    "        p_over30 = round(p_over30, 5)\n",
    "        \n",
    "        #calculate average of all trips\n",
    "        av_trip_dur = round((duration_totals/total_ride_ct),4)\n",
    "      \n",
    "        return (p_over30, av_trip_dur)"
   ]
  },
  {
   "cell_type": "code",
   "execution_count": 12,
   "metadata": {},
   "outputs": [
    {
     "name": "stdout",
     "output_type": "stream",
     "text": [
      "Washington {'proportion trips 30+ min': 0.10839, 'average trip duration': 18.9329}\n",
      "Chicago {'proportion trips 30+ min': 0.08332, 'average trip duration': 16.5636}\n",
      "NYC {'proportion trips 30+ min': 0.07302, 'average trip duration': 15.8126}\n"
     ]
    }
   ],
   "source": [
    "#parse by city summary data file to get the above computations by city\n",
    "city_files = {'Washington': './data/Washington-2016-Summary.csv',\n",
    "             'Chicago': './data/Chicago-2016-Summary.csv',\n",
    "             'NYC': './data/NYC-2016-Summary.csv'}\n",
    "\n",
    "for city, filename in city_files.items():\n",
    "    durations_dict = {\"proportion trips 30+ min\": ride_durations(filename)[0], \"average trip duration\": ride_durations(filename)[1]}\n",
    "    print(city, durations_dict)"
   ]
  },
  {
   "cell_type": "markdown",
   "metadata": {},
   "source": [
    "**Question 4c**: Digging deeper into the question of trip duration based on ridership, we'll choose one city - NYC. Within that city, which type of user takes longer rides on average: Subscribers or Customers?\n",
    "\n",
    "**Answer**: NYC {'subscriber average': 13.6808, 'customer average': 32.776}"
   ]
  },
  {
   "cell_type": "code",
   "execution_count": 13,
   "metadata": {},
   "outputs": [],
   "source": [
    "def user_ride_durations(filename):\n",
    "    \"\"\"\n",
    "    This function reads in a file with trip data and reports the average trip duration within a city\n",
    "    by member type.\n",
    "    \"\"\"\n",
    "    with open(filename, 'r') as f_in:\n",
    "        # set up csv reader object\n",
    "        reader = csv.DictReader(f_in)\n",
    "        \n",
    "        ##filter between subscribers and customers\n",
    "        ##then calculate the average trip duration of each group\n",
    "        \n",
    "        #subscriber and customer counts\n",
    "        subs_durations = 0\n",
    "        cust_durations = 0\n",
    "        \n",
    "        for row in reader:\n",
    "            if row['user_type'] == 'Subscriber':\n",
    "                subs_durations += float(row['duration'])\n",
    "            else:\n",
    "                cust_durations += float(row['duration'])\n",
    "                \n",
    "        #subscriber and customer averages    \n",
    "        subs_av = round((subs_durations/(number_of_trips(filename)[0])),4)\n",
    "        cust_av = round((cust_durations/(number_of_trips(filename)[1])),4)\n",
    "        \n",
    "        av_dict = {\"subscriber average\": subs_av, \"customer average\": cust_av}\n",
    "            \n",
    "        return av_dict"
   ]
  },
  {
   "cell_type": "code",
   "execution_count": 14,
   "metadata": {
    "scrolled": true
   },
   "outputs": [
    {
     "name": "stdout",
     "output_type": "stream",
     "text": [
      "NYC {'subscriber average': 13.6808, 'customer average': 32.776}\n"
     ]
    }
   ],
   "source": [
    "city, filename = ('NYC','./data/NYC-2016-Summary.csv')\n",
    "\n",
    "print(city, user_ride_durations(filename))"
   ]
  },
  {
   "cell_type": "markdown",
   "metadata": {},
   "source": [
    "<a id='visualizations'></a>\n",
    "### Visualizations\n",
    "\n",
    "This last set of values pulled up an interesting result. While the mean trip time for Subscribers is well under 30 minutes, the mean trip time for Customers is actually _above_ 30 minutes! It will be interesting for us to look at how the trip times are distributed. Now we start using `matplotlib`. The cell below will load a sample library to generate an example plot."
   ]
  },
  {
   "cell_type": "code",
   "execution_count": 15,
   "metadata": {},
   "outputs": [
    {
     "data": {
      "image/png": "[encoded data removed]",
      "text/plain": [
       "<matplotlib.figure.Figure at 0x7fe14cc77ac8>"
      ]
     },
     "metadata": {},
     "output_type": "display_data"
    }
   ],
   "source": [
    "# load library\n",
    "import matplotlib.pyplot as plt\n",
    "\n",
    "# this is a 'magic word' that allows for plots to be displayed inline with the notebook.\n",
    "%matplotlib inline \n",
    "\n",
    "# example histogram, data taken from bay area sample\n",
    "data = [ 7.65,  8.92,  7.42,  5.50, 16.17,  4.20,  8.98,  9.62, 11.48, 14.33,\n",
    "        19.02, 21.53,  3.90,  7.97,  2.62,  2.67,  3.08, 14.40, 12.90,  7.83,\n",
    "        25.12,  8.30,  4.93, 12.43, 10.60,  6.17, 10.88,  4.78, 15.15,  3.53,\n",
    "         9.43, 13.32, 11.72,  9.85,  5.22, 15.10,  3.95,  3.17,  8.78,  1.88,\n",
    "         4.55, 12.68, 12.38,  9.78,  7.63,  6.45, 17.38, 11.90, 11.52,  8.63,]\n",
    "plt.hist(data)\n",
    "plt.title('Distribution of Trip Durations')\n",
    "plt.xlabel('Duration (m)')\n",
    "plt.show()"
   ]
  },
  {
   "cell_type": "markdown",
   "metadata": {},
   "source": [
    "In the above cell, we collected fifty trip times in a list, and passed this list as the first argument to the `.hist()` function. This function performs the computations and creates plotting objects for generating a histogram, but the plot is actually not rendered until the `.show()` function is executed. The `.title()` and `.xlabel()` functions provide some labeling for plot context.\n",
    "\n",
    "We'll now use these functions to create a histogram of the trip times for NYC."
   ]
  },
  {
   "cell_type": "code",
   "execution_count": 16,
   "metadata": {},
   "outputs": [],
   "source": [
    "def all_durations(filename):\n",
    "    \"\"\"\n",
    "    This function reads in a file with trip data and reports all trip durations.\n",
    "    \"\"\"\n",
    "    with open(filename, 'r') as f_in:\n",
    "        # set up csv reader object\n",
    "        reader = csv.DictReader(f_in)\n",
    "        \n",
    "        #create empty list in which to loop in all trip durations\n",
    "        list_durations = []\n",
    "        \n",
    "        #loop through each trip, pull the duration and append to list_durations\n",
    "        for row in reader:\n",
    "            if float(row['duration']) < 100:\n",
    "                list_durations.append(float(row['duration']))\n",
    "            \n",
    "        return list_durations"
   ]
  },
  {
   "cell_type": "code",
   "execution_count": 17,
   "metadata": {
    "scrolled": true
   },
   "outputs": [
    {
     "data": {
      "image/png": "[encoded data removed]",
      "text/plain": [
       "<matplotlib.figure.Figure at 0x7fe12ff88c88>"
      ]
     },
     "metadata": {},
     "output_type": "display_data"
    }
   ],
   "source": [
    "#using the function above to visualize all the trip durations for NYC\n",
    "city, filename = ('NYC','./data/NYC-2016-Summary.csv')\n",
    "\n",
    "plt.hist(all_durations(filename))\n",
    "plt.title('NYC trip durations')\n",
    "plt.xlabel('duration(m)')\n",
    "plt.xlim([0,100])\n",
    "plt.show()"
   ]
  },
  {
   "cell_type": "markdown",
   "metadata": {},
   "source": [
    "The plot consists of one extremely tall bar on the left, maybe a very short second bar, and a whole lot of empty space in the center and right. Looking at the duration values on the x-axis suggests that there are some highly infrequent outliers in the data. Let's use some additional parameters with the `.hist()` function to limit the range of data that is plotted.\n",
    "\n",
    "**Question 5**: Use the parameters of the `.hist()` function to plot the distribution of trip times for the Subscribers in NYC. Do the same thing for only the Customers. Add limits to the plots so that only trips of duration less than 75 minutes are plotted. As a bonus, set the plots up so that bars are in five-minute wide intervals. For each group, where is the peak of each distribution? How would you describe the shape of each distribution?\n",
    "\n",
    "**Answer**: NYC Subscribers peak in trip duration at 5 to 10 minutes and the shape of the distribution is right-skewed. NYC Customers peak in trip duration at 20 to 25 minutes and the shape of the distribution is somewhat symmetric/normal and slightly right-skewed."
   ]
  },
  {
   "cell_type": "code",
   "execution_count": 18,
   "metadata": {},
   "outputs": [],
   "source": [
    "def duration_lists(filename):\n",
    "    \"\"\"\n",
    "    This function reads in a file with trip data and returns a list of trip durations based on user type.\n",
    "    \"\"\"\n",
    "    with open(filename, 'r') as f_in:\n",
    "        # set up csv reader object\n",
    "        reader = csv.DictReader(f_in)\n",
    "        \n",
    "        ##filter between subscribers and customers and create lists of all durations for each\n",
    "        subs_durations = []\n",
    "        cust_durations = []\n",
    "        \n",
    "        for row in reader:\n",
    "            if row['user_type'] == 'Subscriber' and float(row['duration']) < 75:\n",
    "                subs_durations.append(float(row['duration']))\n",
    "            elif row['user_type'] == 'Customer' and float(row['duration']) < 75:\n",
    "                cust_durations.append(float(row['duration']))\n",
    "                \n",
    "        return (subs_durations, cust_durations)"
   ]
  },
  {
   "cell_type": "code",
   "execution_count": 19,
   "metadata": {},
   "outputs": [
    {
     "data": {
      "image/png": "[encoded data removed]",
      "text/plain": [
       "<matplotlib.figure.Figure at 0x7fe12f877278>"
      ]
     },
     "metadata": {},
     "output_type": "display_data"
    }
   ],
   "source": [
    "#use the above function to plot the subscriber and customer durations on histograms in the following two cells\n",
    "city, filename = ('NYC','./data/NYC-2016-Summary.csv')\n",
    "\n",
    "plt.hist(duration_lists(filename)[0], bins = 15)\n",
    "plt.title('NYC Subscriber Trip Durations')\n",
    "plt.xlabel('duration(m)')\n",
    "plt.xlim([0,75])\n",
    "plt.show()"
   ]
  },
  {
   "cell_type": "code",
   "execution_count": 20,
   "metadata": {},
   "outputs": [
    {
     "data": {
      "image/png": "[encoded data removed]",
      "text/plain": [
       "<matplotlib.figure.Figure at 0x7fe12f804208>"
      ]
     },
     "metadata": {},
     "output_type": "display_data"
    }
   ],
   "source": [
    "plt.hist(duration_lists(filename)[1], bins = 15)\n",
    "plt.title('NYC Customer Trip Durations')\n",
    "plt.xlabel('duration(m)')\n",
    "plt.xlim([0,75])\n",
    "plt.show()"
   ]
  },
  {
   "cell_type": "markdown",
   "metadata": {
    "collapsed": true
   },
   "source": [
    "<a id='eda_continued'></a>\n",
    "## Performing Additional Analysis\n",
    "\n",
    "So far, we've performed an initial exploration into the data available. We compared the relative volume of trips made between three U.S. cities and the ratio of trips made by Subscribers and Customers. For NYC, we investigated differences between Subscribers and Customers in terms of how long a typical trip lasts. Now we continue the exploration.\n",
    "\n",
    "**Question 6**: How does ridership differ by month? Which month has the highest ridership? How about for day of the week? What does this look like for each city?\n",
    "\n",
    "**Answer**: Keeping in mind that the data we have is just for the year 2016 - Monthly Trips: For Washington, monthly ridership increased a lot in the summer months compared to the winter months. The distribution is pretty symmetric, with the ridership peak occurring in June and July. \n",
    "For Chicago, ridership also increases a lot in the summer months compared to the winter months. The distribution is also pretty symmetric, with the ridership peak occurring in July. NYC has the most increased ridership months in the Fall season, compared to the winter months. The distribution is also somewhat normal, with September being the peak month.\n",
    "\n",
    "Weekday Trips: For Washington, aggregate ridership on all weekends in 2016 was between 8,200 and 8,900. On weekdays, it was between 9,300 and 10,100. So it looks like there was more ridership on weekdays last year in Washington.\n",
    "For Chicago, aggregate ridership on Mondays, Tuesday and Fridays was the highest - between 10,700 and 11,300. The other days of the week had slightly lower ridership between 9,600 and 10,000.\n",
    "For NYC, weekends had aggregate lower ridership than the other days of the week, between 31,300 and 33,400. The weekdays had aggregrate higher ridership, peaking on Wednesday and Thursday - going between 39,300 and 44,700."
   ]
  },
  {
   "cell_type": "code",
   "execution_count": 21,
   "metadata": {},
   "outputs": [],
   "source": [
    "##write function counting the number of trips per month for each city\n",
    "def monthly_trips(filename):\n",
    "    \"\"\"\n",
    "    This function reads in a file with trip data and returns \n",
    "    trip counts by month.\n",
    "    \"\"\"\n",
    "    with open(filename, 'r') as f_in:\n",
    "        # set up csv reader object\n",
    "        reader = csv.DictReader(f_in)\n",
    "        \n",
    "        months = list(range(1,13))\n",
    "        monthly_ct = [0]*len(months)\n",
    "        \n",
    "        #loop through each row in file and add counts to each month for each trip occuring in that month\n",
    "        for row in reader:\n",
    "            for month in months:\n",
    "                if int(row['month']) == month:\n",
    "                    monthly_ct[month-1] += 1\n",
    "                    \n",
    "        return monthly_ct\n",
    "\n",
    "#set up axes for the plots below\n",
    "months_n = [0,1,2,3,4,5,6,7,8,9,10,11]\n",
    "months = ('Jan', 'Feb', 'Mar', 'Apr', 'May', 'Jun', 'Jul', 'Aug', 'Sep', 'Oct', 'Nov', 'Dec')"
   ]
  },
  {
   "cell_type": "code",
   "execution_count": 22,
   "metadata": {
    "scrolled": true
   },
   "outputs": [
    {
     "name": "stdout",
     "output_type": "stream",
     "text": [
      "[2434, 2854, 5571, 5602, 5768, 7320, 7341, 7198, 6878, 6792, 5214, 3354]\n"
     ]
    },
    {
     "data": {
      "image/png": "[encoded data removed]",
      "text/plain": [
       "<matplotlib.figure.Figure at 0x7fe12fed3198>"
      ]
     },
     "metadata": {},
     "output_type": "display_data"
    }
   ],
   "source": [
    "#create bar chart for each city's monthly trips in the next 3 cells\n",
    "Washington = './data/Washington-2016-Summary.csv'\n",
    "print(monthly_trips(Washington))\n",
    "\n",
    "plt.bar(months_n, monthly_trips(Washington))\n",
    "plt.xticks(months_n, months)\n",
    "plt.title('Washington Monthly Trips')\n",
    "plt.ylabel('Trips')\n",
    "plt.xlabel('Month')\n",
    "plt.show()"
   ]
  },
  {
   "cell_type": "code",
   "execution_count": 23,
   "metadata": {},
   "outputs": [
    {
     "name": "stdout",
     "output_type": "stream",
     "text": [
      "[1901, 2394, 3719, 4567, 7211, 9794, 10286, 9810, 8700, 7160, 4811, 1778]\n"
     ]
    },
    {
     "data": {
      "image/png": "[encoded data removed]",
      "text/plain": [
       "<matplotlib.figure.Figure at 0x7fe12f75f8d0>"
      ]
     },
     "metadata": {},
     "output_type": "display_data"
    }
   ],
   "source": [
    "Chicago = './data/Chicago-2016-Summary.csv'\n",
    "print(monthly_trips(Chicago))\n",
    "\n",
    "plt.bar(months_n, monthly_trips(Chicago))\n",
    "plt.xticks(months_n, months)\n",
    "plt.title('Chicago Monthly Trips')\n",
    "plt.ylabel('Trips')\n",
    "plt.xlabel('Month')\n",
    "plt.show()"
   ]
  },
  {
   "cell_type": "code",
   "execution_count": 24,
   "metadata": {},
   "outputs": [
    {
     "name": "stdout",
     "output_type": "stream",
     "text": [
      "[10180, 11170, 18413, 20160, 24455, 29242, 27522, 31104, 32699, 31519, 24148, 16186]\n"
     ]
    },
    {
     "data": {
      "image/png": "[encoded data removed]",
      "text/plain": [
       "<matplotlib.figure.Figure at 0x7fe12f9a1b38>"
      ]
     },
     "metadata": {},
     "output_type": "display_data"
    }
   ],
   "source": [
    "NYC = './data/NYC-2016-Summary.csv'\n",
    "print(monthly_trips(NYC))\n",
    "\n",
    "plt.bar(months_n, monthly_trips(NYC))\n",
    "plt.xticks(months_n, months)\n",
    "plt.title('NYC Monthly Trips')\n",
    "plt.ylabel('Trips')\n",
    "plt.xlabel('Month')\n",
    "plt.show()"
   ]
  },
  {
   "cell_type": "code",
   "execution_count": 25,
   "metadata": {},
   "outputs": [],
   "source": [
    "##write function counting the number of trips each day of the week for each city\n",
    "def weekday_trips(filename):\n",
    "    \"\"\"\n",
    "    This function reads in a file with trip data and returns \n",
    "    trip counts by day of the week.\n",
    "    \"\"\"\n",
    "    with open(filename, 'r') as f_in:\n",
    "        # set up csv reader object\n",
    "        reader = csv.DictReader(f_in)\n",
    "       \n",
    "        weekday_ct = [0,0,0,0,0,0,0]\n",
    "        \n",
    "        #loop through each row in file and add counts to each month for each trip occuring in that month\n",
    "        for row in reader:\n",
    "            if row['day_of_week'] == 'Monday':\n",
    "                weekday_ct[0] += 1\n",
    "            elif row['day_of_week'] == 'Tuesday':\n",
    "                weekday_ct[1] +=1\n",
    "            elif row['day_of_week'] == 'Wednesday':\n",
    "                weekday_ct[2] += 1\n",
    "            elif row['day_of_week'] == 'Thursday':\n",
    "                weekday_ct[3] += 1\n",
    "            elif row['day_of_week'] == 'Friday':\n",
    "                weekday_ct[4] += 1\n",
    "            elif row['day_of_week'] == 'Saturday':\n",
    "                weekday_ct[5] += 1\n",
    "            elif row['day_of_week'] == 'Sunday':\n",
    "                weekday_ct[6] += 1\n",
    "                \n",
    "        return weekday_ct\n",
    "\n",
    "#set up axes for bar plots below\n",
    "weekdays_n = [0,1,2,3,4,5,6]\n",
    "weekdays = ('Mon', 'Tues', 'Wed', 'Thur', 'Fri', 'Sat', 'Sun')"
   ]
  },
  {
   "cell_type": "code",
   "execution_count": 26,
   "metadata": {
    "scrolled": true
   },
   "outputs": [
    {
     "name": "stdout",
     "output_type": "stream",
     "text": [
      "[9394, 9748, 10103, 9984, 9970, 8900, 8227]\n"
     ]
    },
    {
     "data": {
      "image/png": "[encoded data removed]",
      "text/plain": [
       "<matplotlib.figure.Figure at 0x7fe12f938240>"
      ]
     },
     "metadata": {},
     "output_type": "display_data"
    }
   ],
   "source": [
    "#create bar chart for each city's monthly trips in the next 3 cells\n",
    "Washington = './data/Washington-2016-Summary.csv'\n",
    "print(weekday_trips(Washington))\n",
    "\n",
    "plt.bar(weekdays_n, weekday_trips(Washington))\n",
    "plt.xticks(weekdays_n, weekdays)\n",
    "plt.title('Washington Weekday Trips')\n",
    "plt.ylabel('Trips')\n",
    "plt.xlabel('Day')\n",
    "plt.show()"
   ]
  },
  {
   "cell_type": "code",
   "execution_count": 27,
   "metadata": {},
   "outputs": [
    {
     "name": "stdout",
     "output_type": "stream",
     "text": [
      "[11286, 10911, 9604, 10008, 10741, 9927, 9654]\n"
     ]
    },
    {
     "data": {
      "image/png": "[encoded data removed]",
      "text/plain": [
       "<matplotlib.figure.Figure at 0x7fe12f8f3320>"
      ]
     },
     "metadata": {},
     "output_type": "display_data"
    }
   ],
   "source": [
    "Chicago = './data/Chicago-2016-Summary.csv'\n",
    "print(weekday_trips(Chicago))\n",
    "\n",
    "plt.bar(weekdays_n, weekday_trips(Chicago))\n",
    "plt.xticks(weekdays_n, weekdays)\n",
    "plt.title('Chicago Weekday Trips')\n",
    "plt.ylabel('Trips')\n",
    "plt.xlabel('Day')\n",
    "plt.show()"
   ]
  },
  {
   "cell_type": "code",
   "execution_count": 28,
   "metadata": {},
   "outputs": [
    {
     "name": "stdout",
     "output_type": "stream",
     "text": [
      "[39340, 42405, 44629, 44330, 41389, 33353, 31352]\n"
     ]
    },
    {
     "data": {
      "image/png": "[encoded data removed]",
      "text/plain": [
       "<matplotlib.figure.Figure at 0x7fe12fac1048>"
      ]
     },
     "metadata": {},
     "output_type": "display_data"
    }
   ],
   "source": [
    "NYC = './data/NYC-2016-Summary.csv'\n",
    "print(weekday_trips(NYC))\n",
    "\n",
    "plt.bar(weekdays_n, weekday_trips(NYC))\n",
    "plt.xticks(weekdays_n, weekdays)\n",
    "plt.title('NYC Weekday Trips')\n",
    "plt.ylabel('Trips')\n",
    "plt.xlabel('Day')\n",
    "plt.show()"
   ]
  },
  {
   "cell_type": "markdown",
   "metadata": {},
   "source": [
    "<a id='conclusions'></a>\n",
    "## Conclusions\n",
    "\n",
    "This is only a sampling of the data analysis process: from generating questions, wrangling the data, and to exploring the data. Normally, at this point in the data analysis process, we might want to draw conclusions about the data by performing a statistical test or fitting the data to a model for making predictions. There are also a lot of potential analyses that could be performed on the data which are not possible with only the data provided. For example, detailed location data has not been investigated. Where are the most commonly used docks? What are the most common routes? As another example, weather has potential to have a large impact on daily ridership. How much is ridership impacted when there is rain or snow? Are subscribers or customers affected more by changes in weather?"
   ]
  }
 ],
 "metadata": {
  "anaconda-cloud": {},
  "celltoolbar": "Raw Cell Format",
  "kernelspec": {
   "display_name": "Python 3",
   "language": "python",
   "name": "python3"
  },
  "language_info": {
   "codemirror_mode": {
    "name": "ipython",
    "version": 3
   },
   "file_extension": ".py",
   "mimetype": "text/x-python",
   "name": "python",
   "nbconvert_exporter": "python",
   "pygments_lexer": "ipython3",
   "version": "3.6.3"
  }
 },
 "nbformat": 4,
 "nbformat_minor": 1
}
